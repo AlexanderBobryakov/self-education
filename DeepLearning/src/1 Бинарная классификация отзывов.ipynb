{
  "nbformat": 4,
  "nbformat_minor": 0,
  "metadata": {
    "colab": {
      "name": "DL_Python",
      "provenance": [],
      "collapsed_sections": []
    },
    "kernelspec": {
      "name": "python3",
      "display_name": "Python 3"
    }
  },
  "cells": [
    {
      "cell_type": "code",
      "metadata": {
        "id": "WoQPWz3KSh-Y"
      },
      "source": [
        "# Бинарная классификация (На основе текстов отзывов. Классифицируем отзыв - отрицательный/положительный)"
      ],
      "execution_count": null,
      "outputs": []
    },
    {
      "cell_type": "code",
      "metadata": {
        "id": "vj14-_MQ_XtE"
      },
      "source": [
        "import numpy as np\n",
        "import matplotlib.pyplot as plt\n",
        "\n",
        "from keras.datasets import imdb\n",
        "from keras import models, layers, losses, metrics, optimizers"
      ],
      "execution_count": 46,
      "outputs": []
    },
    {
      "cell_type": "code",
      "metadata": {
        "id": "mjKXQarHFduT"
      },
      "source": [
        "(train_data, train_labels), (test_data, test_labels) = imdb.load_data(num_words=10000) # num_words - получаем это колич слов (наиболее встречаемых)\n",
        "# .._data - списки отзывов (отзыв = список индексов слов)\n",
        "# .._labels - список нулей/единиц (отрицательные/положительные отзывы) "
      ],
      "execution_count": 9,
      "outputs": []
    },
    {
      "cell_type": "code",
      "metadata": {
        "colab": {
          "base_uri": "https://localhost:8080/",
          "height": 108
        },
        "id": "cURfkPftDbIt",
        "outputId": "9a2f2946-76c6-467f-8a79-aeb32c60ff2e"
      },
      "source": [
        "# Пример расшифровки\n",
        "word_index = imdb.get_word_index()\n",
        "reverse_word_index = dict([(value, key) for (key, value) in word_index.items()])\n",
        "decoded_review = ' '.join([reverse_word_index.get(i - 3, '?') for i in train_data[0]])\n",
        "decoded_review"
      ],
      "execution_count": 10,
      "outputs": [
        {
          "output_type": "execute_result",
          "data": {
            "application/vnd.google.colaboratory.intrinsic+json": {
              "type": "string"
            },
            "text/plain": [
              "\"? this film was just brilliant casting location scenery story direction everyone's really suited the part they played and you could just imagine being there robert ? is an amazing actor and now the same being director ? father came from the same scottish island as myself so i loved the fact there was a real connection with this film the witty remarks throughout the film were great it was just brilliant so much that i bought the film as soon as it was released for ? and would recommend it to everyone to watch and the fly fishing was amazing really cried at the end it was so sad and you know what they say if you cry at a film it must have been good and this definitely was also ? to the two little boy's that played the ? of norman and paul they were just brilliant children are often left out of the ? list i think because the stars that play them all grown up are such a big profile for the whole film but these children are amazing and should be praised for what they have done don't you think the whole story was so lovely because it was true and was someone's life after all that was shared with us all\""
            ]
          },
          "metadata": {
            "tags": []
          },
          "execution_count": 10
        }
      ]
    },
    {
      "cell_type": "code",
      "metadata": {
        "id": "N8Z8Fm8WEg6p"
      },
      "source": [
        "def vectorize_sequences(sequences, dimension=10000):\n",
        "  results = np.zeros((len(sequences), dimension))\n",
        "  for i, sequence in enumerate(sequences):\n",
        "    results[i, sequence] = 1.\n",
        "  return results\n",
        "\n",
        "x_train = vectorize_sequences(train_data)  # векторизованные обучающие данные\n",
        "x_test = vectorize_sequences(test_data) # ветризованные тестовые данные"
      ],
      "execution_count": 11,
      "outputs": []
    },
    {
      "cell_type": "code",
      "metadata": {
        "id": "y6NNS3RBHFlK"
      },
      "source": [
        "# веторизуем метки\n",
        "y_train = np.asarray(train_labels).astype('float32')\n",
        "y_test = np.asarray(test_labels).astype('float32')"
      ],
      "execution_count": 21,
      "outputs": []
    },
    {
      "cell_type": "code",
      "metadata": {
        "id": "nyS-Ws-qJQyU"
      },
      "source": [
        "# модель\n",
        "model = models.Sequential()\n",
        "model.add(layers.Dense(16, activation='relu', input_shape=(10000,)))\n",
        "model.add(layers.Dense(16, activation='relu'))\n",
        "model.add(layers.Dense(1, activation='sigmoid'))\n",
        "model.compile(optimizer=optimizers.RMSprop(learning_rate=0.001), loss=losses.binary_crossentropy, metrics=[metrics.binary_accuracy])"
      ],
      "execution_count": 28,
      "outputs": []
    },
    {
      "cell_type": "code",
      "metadata": {
        "id": "VnziYMYUKeus"
      },
      "source": [
        "# Валидацияонный набор (проверка точности во время обучения)\n",
        "x_validation = x_train[:10000]\n",
        "partial_x_train = x_train[10000:]\n",
        "\n",
        "y_validation = y_train[:10000]\n",
        "partial_y_train = y_train[10000:]"
      ],
      "execution_count": 30,
      "outputs": []
    },
    {
      "cell_type": "code",
      "metadata": {
        "colab": {
          "base_uri": "https://localhost:8080/"
        },
        "id": "cESoKiqlNdD-",
        "outputId": "ce65b7e0-56a8-4ecb-f236-c27afb4a0f77"
      },
      "source": [
        "history = model.fit(x=partial_x_train, y=partial_y_train, epochs=20, batch_size=512, validation_data=(x_validation, y_validation))"
      ],
      "execution_count": 31,
      "outputs": [
        {
          "output_type": "stream",
          "text": [
            "Epoch 1/20\n",
            "30/30 [==============================] - 1s 34ms/step - loss: 0.5027 - binary_accuracy: 0.7831 - val_loss: 0.3815 - val_binary_accuracy: 0.8634\n",
            "Epoch 2/20\n",
            "30/30 [==============================] - 1s 26ms/step - loss: 0.2946 - binary_accuracy: 0.9055 - val_loss: 0.3117 - val_binary_accuracy: 0.8803\n",
            "Epoch 3/20\n",
            "30/30 [==============================] - 1s 25ms/step - loss: 0.2173 - binary_accuracy: 0.9277 - val_loss: 0.2766 - val_binary_accuracy: 0.8893\n",
            "Epoch 4/20\n",
            "30/30 [==============================] - 1s 25ms/step - loss: 0.1701 - binary_accuracy: 0.9455 - val_loss: 0.2764 - val_binary_accuracy: 0.8883\n",
            "Epoch 5/20\n",
            "30/30 [==============================] - 1s 25ms/step - loss: 0.1446 - binary_accuracy: 0.9529 - val_loss: 0.2849 - val_binary_accuracy: 0.8869\n",
            "Epoch 6/20\n",
            "30/30 [==============================] - 1s 25ms/step - loss: 0.1153 - binary_accuracy: 0.9640 - val_loss: 0.3376 - val_binary_accuracy: 0.8692\n",
            "Epoch 7/20\n",
            "30/30 [==============================] - 1s 24ms/step - loss: 0.0986 - binary_accuracy: 0.9713 - val_loss: 0.3494 - val_binary_accuracy: 0.8716\n",
            "Epoch 8/20\n",
            "30/30 [==============================] - 1s 25ms/step - loss: 0.0801 - binary_accuracy: 0.9778 - val_loss: 0.4048 - val_binary_accuracy: 0.8620\n",
            "Epoch 9/20\n",
            "30/30 [==============================] - 1s 24ms/step - loss: 0.0677 - binary_accuracy: 0.9813 - val_loss: 0.3851 - val_binary_accuracy: 0.8726\n",
            "Epoch 10/20\n",
            "30/30 [==============================] - 1s 25ms/step - loss: 0.0564 - binary_accuracy: 0.9859 - val_loss: 0.3892 - val_binary_accuracy: 0.8760\n",
            "Epoch 11/20\n",
            "30/30 [==============================] - 1s 25ms/step - loss: 0.0499 - binary_accuracy: 0.9870 - val_loss: 0.4094 - val_binary_accuracy: 0.8764\n",
            "Epoch 12/20\n",
            "30/30 [==============================] - 1s 25ms/step - loss: 0.0352 - binary_accuracy: 0.9934 - val_loss: 0.4379 - val_binary_accuracy: 0.8755\n",
            "Epoch 13/20\n",
            "30/30 [==============================] - 1s 25ms/step - loss: 0.0315 - binary_accuracy: 0.9930 - val_loss: 0.4742 - val_binary_accuracy: 0.8707\n",
            "Epoch 14/20\n",
            "30/30 [==============================] - 1s 25ms/step - loss: 0.0251 - binary_accuracy: 0.9952 - val_loss: 0.5030 - val_binary_accuracy: 0.8707\n",
            "Epoch 15/20\n",
            "30/30 [==============================] - 1s 25ms/step - loss: 0.0228 - binary_accuracy: 0.9955 - val_loss: 0.5369 - val_binary_accuracy: 0.8713\n",
            "Epoch 16/20\n",
            "30/30 [==============================] - 1s 25ms/step - loss: 0.0156 - binary_accuracy: 0.9981 - val_loss: 0.5667 - val_binary_accuracy: 0.8693\n",
            "Epoch 17/20\n",
            "30/30 [==============================] - 1s 25ms/step - loss: 0.0143 - binary_accuracy: 0.9979 - val_loss: 0.5972 - val_binary_accuracy: 0.8695\n",
            "Epoch 18/20\n",
            "30/30 [==============================] - 1s 25ms/step - loss: 0.0121 - binary_accuracy: 0.9979 - val_loss: 0.6263 - val_binary_accuracy: 0.8675\n",
            "Epoch 19/20\n",
            "30/30 [==============================] - 1s 25ms/step - loss: 0.0098 - binary_accuracy: 0.9988 - val_loss: 0.6577 - val_binary_accuracy: 0.8659\n",
            "Epoch 20/20\n",
            "30/30 [==============================] - 1s 24ms/step - loss: 0.0080 - binary_accuracy: 0.9987 - val_loss: 0.6949 - val_binary_accuracy: 0.8634\n"
          ],
          "name": "stdout"
        }
      ]
    },
    {
      "cell_type": "code",
      "metadata": {
        "colab": {
          "base_uri": "https://localhost:8080/"
        },
        "id": "bZUYJGKwN3WW",
        "outputId": "11cde169-540c-41d2-9c21-32fdcf3b0f5e"
      },
      "source": [
        "print(history.history.keys())\n",
        "# loss - потери на тренировочном наборе для каждой эпохи\n",
        "# val_loss - для валидационной выборки"
      ],
      "execution_count": 34,
      "outputs": [
        {
          "output_type": "stream",
          "text": [
            "dict_keys(['loss', 'binary_accuracy', 'val_loss', 'val_binary_accuracy'])\n"
          ],
          "name": "stdout"
        }
      ]
    },
    {
      "cell_type": "code",
      "metadata": {
        "colab": {
          "base_uri": "https://localhost:8080/",
          "height": 295
        },
        "id": "f0pQpxzVOdWT",
        "outputId": "02f9875f-b0f6-40ee-9041-79d0c4efdbf8"
      },
      "source": [
        "# График потерь\n",
        "history_dict = history.history\n",
        "loss_values = history_dict['loss']\n",
        "val_loss_values = history_dict['val_loss']\n",
        "\n",
        "epoch = range(1, len(loss_values) + 1)\n",
        "\n",
        "plt.plot(epoch, loss_values, 'bo', label='Потери на обучении')\n",
        "plt.plot(epoch, val_loss_values, 'b', label='Потери на проверке (валидации)')\n",
        "plt.title('Потери')\n",
        "plt.xlabel('Epoch')\n",
        "plt.ylabel(\"Loss\")\n",
        "plt.legend()\n",
        "plt.show()\n",
        "\n",
        "# На обучении LOSS уменьшается - отлично\n",
        "# На валидации LOSS увеличивается после 4 эпохи (переобучение)"
      ],
      "execution_count": 49,
      "outputs": [
        {
          "output_type": "display_data",
          "data": {
            "image/png": "[encoded data removed]",
            "text/plain": [
              "<Figure size 432x288 with 1 Axes>"
            ]
          },
          "metadata": {
            "tags": [],
            "needs_background": "light"
          }
        }
      ]
    },
    {
      "cell_type": "code",
      "metadata": {
        "colab": {
          "base_uri": "https://localhost:8080/",
          "height": 295
        },
        "id": "vzZxMdReQYxM",
        "outputId": "3d3e6621-44b0-47af-f2b1-a4b72a0205e1"
      },
      "source": [
        "# График точности\n",
        "acc_values = history_dict['binary_accuracy']\n",
        "val_acc_values = history_dict['val_binary_accuracy']\n",
        "\n",
        "epoch = range(1, len(loss_values) + 1)\n",
        "\n",
        "plt.plot(epoch, acc_values, 'bo', label='Точность на обучении')\n",
        "plt.plot(epoch, val_acc_values, 'b', label='Точность на проверке (валидации)')\n",
        "plt.title('Точность')\n",
        "plt.xlabel('Epoch')\n",
        "plt.ylabel(\"Accuracy\")\n",
        "plt.legend()\n",
        "plt.show()\n",
        "\n",
        "# На обучении ACC увеличивается - отлично\n",
        "# На валидации ACC evtymiftncz после 4 эпохи (переобучение)"
      ],
      "execution_count": 51,
      "outputs": [
        {
          "output_type": "display_data",
          "data": {
            "image/png": "[encoded data removed]",
            "text/plain": [
              "<Figure size 432x288 with 1 Axes>"
            ]
          },
          "metadata": {
            "tags": [],
            "needs_background": "light"
          }
        }
      ]
    },
    {
      "cell_type": "code",
      "metadata": {
        "colab": {
          "base_uri": "https://localhost:8080/"
        },
        "id": "ZTTEdnIQQzgF",
        "outputId": "fbc9409b-7660-47df-fee1-ec262cee498c"
      },
      "source": [
        "# Обучим на 4 эпохах\n",
        "model = models.Sequential()\n",
        "model.add(layers.Dense(16, activation='relu', input_shape=(10000,)))\n",
        "model.add(layers.Dense(16, activation='relu'))\n",
        "model.add(layers.Dense(1, activation='sigmoid'))\n",
        "model.compile(optimizer=optimizers.RMSprop(learning_rate=0.001), loss=losses.binary_crossentropy, metrics=[metrics.binary_accuracy])\n",
        "history_4_epoch = model.fit(x=partial_x_train, y=partial_y_train, epochs=4, batch_size=512, validation_data=(x_validation, y_validation))"
      ],
      "execution_count": 53,
      "outputs": [
        {
          "output_type": "stream",
          "text": [
            "Epoch 1/4\n",
            "30/30 [==============================] - 1s 24ms/step - loss: 0.5400 - binary_accuracy: 0.7567 - val_loss: 0.4059 - val_binary_accuracy: 0.8698\n",
            "Epoch 2/4\n",
            "30/30 [==============================] - 1s 19ms/step - loss: 0.3247 - binary_accuracy: 0.9005 - val_loss: 0.3183 - val_binary_accuracy: 0.8830\n",
            "Epoch 3/4\n",
            "30/30 [==============================] - 1s 18ms/step - loss: 0.2366 - binary_accuracy: 0.9259 - val_loss: 0.2851 - val_binary_accuracy: 0.8922\n",
            "Epoch 4/4\n",
            "30/30 [==============================] - 1s 18ms/step - loss: 0.1826 - binary_accuracy: 0.9429 - val_loss: 0.2766 - val_binary_accuracy: 0.8911\n"
          ],
          "name": "stdout"
        }
      ]
    },
    {
      "cell_type": "code",
      "metadata": {
        "colab": {
          "base_uri": "https://localhost:8080/"
        },
        "id": "yLUkc_GqRmAO",
        "outputId": "ceb400e0-6fd6-4c4b-b7f1-2c566fcfb91c"
      },
      "source": [
        "results = model.evaluate(x_test, y_test)\n",
        "results\n",
        "# Точность 88%, Потери 29%"
      ],
      "execution_count": 55,
      "outputs": [
        {
          "output_type": "stream",
          "text": [
            "782/782 [==============================] - 1s 1ms/step - loss: 0.2960 - binary_accuracy: 0.8831\n"
          ],
          "name": "stdout"
        },
        {
          "output_type": "execute_result",
          "data": {
            "text/plain": [
              "[0.29598313570022583, 0.8831200003623962]"
            ]
          },
          "metadata": {
            "tags": []
          },
          "execution_count": 55
        }
      ]
    },
    {
      "cell_type": "code",
      "metadata": {
        "colab": {
          "base_uri": "https://localhost:8080/"
        },
        "id": "y7h3_B_6SRRZ",
        "outputId": "71a2b7d3-64d6-4519-c4c1-1e096a7d8cf8"
      },
      "source": [
        "# Предскажем для других значений\n",
        "model.predict(x=x_test)"
      ],
      "execution_count": 56,
      "outputs": [
        {
          "output_type": "execute_result",
          "data": {
            "text/plain": [
              "array([[0.2500181 ],\n",
              "       [0.988973  ],\n",
              "       [0.76346457],\n",
              "       ...,\n",
              "       [0.1288856 ],\n",
              "       [0.15344673],\n",
              "       [0.5362619 ]], dtype=float32)"
            ]
          },
          "metadata": {
            "tags": []
          },
          "execution_count": 56
        }
      ]
    }
  ]
}