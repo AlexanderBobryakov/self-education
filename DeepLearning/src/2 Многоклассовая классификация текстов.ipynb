{
  "nbformat": 4,
  "nbformat_minor": 0,
  "metadata": {
    "colab": {
      "name": "DL_Python_2",
      "provenance": []
    },
    "kernelspec": {
      "name": "python3",
      "display_name": "Python 3"
    }
  },
  "cells": [
    {
      "cell_type": "code",
      "metadata": {
        "id": "t5nP34tCwVVh"
      },
      "source": [
        "# Однозначная многоклассовая классификация (На основе темы новостных лент)"
      ],
      "execution_count": 1,
      "outputs": []
    },
    {
      "cell_type": "code",
      "metadata": {
        "id": "xNUhlsngwfvr"
      },
      "source": [
        "import numpy as np\n",
        "import matplotlib.pyplot as plt\n",
        "\n",
        "from keras.datasets import reuters\n",
        "from keras import models, layers, losses, metrics, optimizers"
      ],
      "execution_count": 2,
      "outputs": []
    },
    {
      "cell_type": "code",
      "metadata": {
        "id": "qChf-U2ewnFt"
      },
      "source": [
        "(train_data, train_labels), (test_data, test_labels) = reuters.load_data(num_words=10000) # num_words - получаем это колич слов (наиболее встречаемых)\n",
        "# data - лист с индексами слов\n",
        "# labels - метка класса текста 0..45\n"
      ],
      "execution_count": 7,
      "outputs": []
    },
    {
      "cell_type": "code",
      "metadata": {
        "colab": {
          "base_uri": "https://localhost:8080/"
        },
        "id": "Q8GJa7I2wukL",
        "outputId": "27f117ed-6a66-4dee-c339-fb1122afd3ba"
      },
      "source": [
        "len(train_data), len(test_data)"
      ],
      "execution_count": 8,
      "outputs": [
        {
          "output_type": "execute_result",
          "data": {
            "text/plain": [
              "(8982, 2246)"
            ]
          },
          "metadata": {
            "tags": []
          },
          "execution_count": 8
        }
      ]
    },
    {
      "cell_type": "code",
      "metadata": {
        "colab": {
          "base_uri": "https://localhost:8080/",
          "height": 108
        },
        "id": "bffNoZkrw0bU",
        "outputId": "170de601-e0bd-4033-8b6b-88221fef07d8"
      },
      "source": [
        "# Пример расшифровки\n",
        "word_index = reuters.get_word_index()\n",
        "reverse_word_index = dict([(value, key) for (key, value) in word_index.items()])\n",
        "decoded_review = ' '.join([reverse_word_index.get(i - 3, '?') for i in train_data[0]])\n",
        "decoded_review"
      ],
      "execution_count": 9,
      "outputs": [
        {
          "output_type": "execute_result",
          "data": {
            "application/vnd.google.colaboratory.intrinsic+json": {
              "type": "string"
            },
            "text/plain": [
              "'? ? ? said as a result of its december acquisition of space co it expects earnings per share in 1987 of 1 15 to 1 30 dlrs per share up from 70 cts in 1986 the company said pretax net should rise to nine to 10 mln dlrs from six mln dlrs in 1986 and rental operation revenues to 19 to 22 mln dlrs from 12 5 mln dlrs it said cash flow per share this year should be 2 50 to three dlrs reuter 3'"
            ]
          },
          "metadata": {
            "tags": []
          },
          "execution_count": 9
        }
      ]
    },
    {
      "cell_type": "code",
      "metadata": {
        "id": "UzvAQOaLw6Ws"
      },
      "source": [
        "def vectorize_sequences(sequences, dimension=10000):\n",
        "  results = np.zeros((len(sequences), dimension))\n",
        "  for i, sequence in enumerate(sequences):\n",
        "    results[i, sequence] = 1.\n",
        "  return results\n",
        "\n",
        "x_train = vectorize_sequences(train_data)  # векторизованные обучающие данные\n",
        "x_test = vectorize_sequences(test_data) # ветризованные тестовые данные"
      ],
      "execution_count": 10,
      "outputs": []
    },
    {
      "cell_type": "code",
      "metadata": {
        "id": "af-nQLEQxO5t"
      },
      "source": [
        "# веторизуем метки\n",
        "\n",
        "# One hot encoding (Прямое кодирование) - вектор с нулевыми эл-ми со зн-нием 1 в эл-те, индекс которого\n",
        "# соответствует индексу метки\n",
        "def to_one_hot(labels, dimension=46):\n",
        "  results = np.zeros((len(labels), dimension))\n",
        "  for i, label in enumerate(labels):\n",
        "    results[i, label] = 1.\n",
        "  return results\n",
        "\n",
        "one_hot_train_labels = to_one_hot(train_labels)\n",
        "one_hot_test_labels = to_one_hot(test_labels)\n",
        "\n",
        "# Аналогичная системная реализация\n",
        "#from keras.utils.np_utils import to_categorical\n",
        "#one_hot_train_labels = to_categorical(train_labels)\n",
        "#one_hot_test_labels = to_categorical(test_labels)"
      ],
      "execution_count": 30,
      "outputs": []
    },
    {
      "cell_type": "code",
      "metadata": {
        "id": "dVnyAt4Tya3F"
      },
      "source": [
        "# модель\n",
        "model = models.Sequential()\n",
        "model.add(layers.Dense(64, activation='relu', input_shape=(10000,)))\n",
        "model.add(layers.Dense(64, activation='relu'))\n",
        "model.add(layers.Dense(46, activation='softmax'))\n",
        "model.compile(optimizer=optimizers.RMSprop(learning_rate=0.001), loss=losses.categorical_crossentropy, metrics=[metrics.categorical_accuracy])"
      ],
      "execution_count": 31,
      "outputs": []
    },
    {
      "cell_type": "code",
      "metadata": {
        "id": "rUTZn2PvzEzF"
      },
      "source": [
        "# Валидацияонный набор (проверка точности во время обучения)\n",
        "x_validation = x_train[:1000]\n",
        "partial_x_train = x_train[1000:]\n",
        "\n",
        "y_validation = one_hot_train_labels[:1000]\n",
        "partial_y_train = one_hot_train_labels[1000:]"
      ],
      "execution_count": 32,
      "outputs": []
    },
    {
      "cell_type": "code",
      "metadata": {
        "colab": {
          "base_uri": "https://localhost:8080/"
        },
        "id": "bA37rrsBzHYM",
        "outputId": "53e3c557-b1f5-453f-b012-0ec92bc1fb97"
      },
      "source": [
        "history = model.fit(x=partial_x_train, y=partial_y_train, epochs=9, batch_size=512, validation_data=(x_validation, y_validation))"
      ],
      "execution_count": 33,
      "outputs": [
        {
          "output_type": "stream",
          "text": [
            "Epoch 1/9\n",
            "16/16 [==============================] - 1s 50ms/step - loss: 2.5300 - categorical_accuracy: 0.5158 - val_loss: 1.7019 - val_categorical_accuracy: 0.6230\n",
            "Epoch 2/9\n",
            "16/16 [==============================] - 1s 43ms/step - loss: 1.3861 - categorical_accuracy: 0.6989 - val_loss: 1.3157 - val_categorical_accuracy: 0.7220\n",
            "Epoch 3/9\n",
            "16/16 [==============================] - 1s 43ms/step - loss: 1.0353 - categorical_accuracy: 0.7784 - val_loss: 1.1350 - val_categorical_accuracy: 0.7580\n",
            "Epoch 4/9\n",
            "16/16 [==============================] - 1s 42ms/step - loss: 0.8152 - categorical_accuracy: 0.8266 - val_loss: 1.0405 - val_categorical_accuracy: 0.7690\n",
            "Epoch 5/9\n",
            "16/16 [==============================] - 1s 42ms/step - loss: 0.6427 - categorical_accuracy: 0.8661 - val_loss: 0.9599 - val_categorical_accuracy: 0.7990\n",
            "Epoch 6/9\n",
            "16/16 [==============================] - 1s 42ms/step - loss: 0.5093 - categorical_accuracy: 0.8980 - val_loss: 0.9141 - val_categorical_accuracy: 0.8060\n",
            "Epoch 7/9\n",
            "16/16 [==============================] - 1s 43ms/step - loss: 0.4051 - categorical_accuracy: 0.9184 - val_loss: 0.9038 - val_categorical_accuracy: 0.8160\n",
            "Epoch 8/9\n",
            "16/16 [==============================] - 1s 41ms/step - loss: 0.3288 - categorical_accuracy: 0.9312 - val_loss: 0.9044 - val_categorical_accuracy: 0.8110\n",
            "Epoch 9/9\n",
            "16/16 [==============================] - 1s 42ms/step - loss: 0.2696 - categorical_accuracy: 0.9429 - val_loss: 0.8839 - val_categorical_accuracy: 0.8240\n"
          ],
          "name": "stdout"
        }
      ]
    },
    {
      "cell_type": "code",
      "metadata": {
        "colab": {
          "base_uri": "https://localhost:8080/"
        },
        "id": "npycz-Cl059H",
        "outputId": "f5cbf5a8-173b-4939-e751-64a6b886a8c9"
      },
      "source": [
        "print(history.history.keys())"
      ],
      "execution_count": 36,
      "outputs": [
        {
          "output_type": "stream",
          "text": [
            "dict_keys(['loss', 'categorical_accuracy', 'val_loss', 'val_categorical_accuracy'])\n"
          ],
          "name": "stdout"
        }
      ]
    },
    {
      "cell_type": "code",
      "metadata": {
        "colab": {
          "base_uri": "https://localhost:8080/",
          "height": 295
        },
        "id": "Bjrs5Lnyzl-x",
        "outputId": "fb2814b1-5a76-4701-8450-8e2a1685e1fe"
      },
      "source": [
        "# График потерь\n",
        "history_dict = history.history\n",
        "loss_values = history_dict['loss']\n",
        "val_loss_values = history_dict['val_loss']\n",
        "\n",
        "epoch = range(1, len(loss_values) + 1)\n",
        "\n",
        "plt.plot(epoch, loss_values, 'bo', label='Потери на обучении')\n",
        "plt.plot(epoch, val_loss_values, 'b', label='Потери на проверке (валидации)')\n",
        "plt.title('Потери')\n",
        "plt.xlabel('Epoch')\n",
        "plt.ylabel(\"Loss\")\n",
        "plt.legend()\n",
        "plt.show()"
      ],
      "execution_count": 34,
      "outputs": [
        {
          "output_type": "display_data",
          "data": {
            "image/png": "[encoded data removed]",
            "text/plain": [
              "<Figure size 432x288 with 1 Axes>"
            ]
          },
          "metadata": {
            "tags": [],
            "needs_background": "light"
          }
        }
      ]
    },
    {
      "cell_type": "code",
      "metadata": {
        "colab": {
          "base_uri": "https://localhost:8080/",
          "height": 295
        },
        "id": "OCSdT06R01Cs",
        "outputId": "ac438ca8-9cfb-4d78-c3fd-00726964552f"
      },
      "source": [
        "# График точности\n",
        "acc_values = history_dict['categorical_accuracy']\n",
        "val_acc_values = history_dict['val_categorical_accuracy']\n",
        "\n",
        "epoch = range(1, len(loss_values) + 1)\n",
        "\n",
        "plt.plot(epoch, acc_values, 'bo', label='Точность на обучении')\n",
        "plt.plot(epoch, val_acc_values, 'b', label='Точность на проверке (валидации)')\n",
        "plt.title('Точность')\n",
        "plt.xlabel('Epoch')\n",
        "plt.ylabel(\"Accuracy\")\n",
        "plt.legend()\n",
        "plt.show()"
      ],
      "execution_count": 37,
      "outputs": [
        {
          "output_type": "display_data",
          "data": {
            "image/png": "[encoded data removed]",
            "text/plain": [
              "<Figure size 432x288 with 1 Axes>"
            ]
          },
          "metadata": {
            "tags": [],
            "needs_background": "light"
          }
        }
      ]
    },
    {
      "cell_type": "code",
      "metadata": {
        "colab": {
          "base_uri": "https://localhost:8080/"
        },
        "id": "xujBZcRz02xE",
        "outputId": "9765727a-f464-4362-f726-20d584f148ae"
      },
      "source": [
        "results = model.evaluate(x_test, one_hot_test_labels)\n",
        "results\n",
        "# Потери 97%, Точность 80%, "
      ],
      "execution_count": 39,
      "outputs": [
        {
          "output_type": "stream",
          "text": [
            "71/71 [==============================] - 0s 2ms/step - loss: 0.9742 - categorical_accuracy: 0.7912\n"
          ],
          "name": "stdout"
        },
        {
          "output_type": "execute_result",
          "data": {
            "text/plain": [
              "[0.9742324948310852, 0.7911843061447144]"
            ]
          },
          "metadata": {
            "tags": []
          },
          "execution_count": 39
        }
      ]
    },
    {
      "cell_type": "code",
      "metadata": {
        "colab": {
          "base_uri": "https://localhost:8080/"
        },
        "id": "VFlO0N6Y1E8E",
        "outputId": "850b04f7-a580-4035-ec59-f4fa79ee6504"
      },
      "source": [
        "# Предскажем для других значений\n",
        "predictions = model.predict(x=x_test)\n",
        "print(predictions[0].shape)  # для каждого текста выводит вероятность отнесения к каждой из 46 тем\n",
        "print(np.sum(predictions[0]))  # сумма вероятностей равна 1\n",
        "print(np.argmax(predictions[0]))  # предсказанный класс"
      ],
      "execution_count": 44,
      "outputs": [
        {
          "output_type": "stream",
          "text": [
            "(46,)\n",
            "1.0000001\n",
            "3\n"
          ],
          "name": "stdout"
        }
      ]
    },
    {
      "cell_type": "code",
      "metadata": {
        "id": "YTUQWiBe2FWZ"
      },
      "source": [
        "# Дополнение: второй способ кодирования меток:\n",
        "y_train = np.array(train_labels)  # вместо one_hot_train_labels\n",
        "y_test = np.array(test_labels)    # вместо one_hot_test_labels\n",
        "# + нужна теперь loss функция 'sparse_categorical_crossentropy'"
      ],
      "execution_count": null,
      "outputs": []
    }
  ]
}