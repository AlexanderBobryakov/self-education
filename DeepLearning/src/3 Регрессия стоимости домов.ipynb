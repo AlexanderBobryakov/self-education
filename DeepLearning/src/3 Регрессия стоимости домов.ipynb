{
  "nbformat": 4,
  "nbformat_minor": 0,
  "metadata": {
    "colab": {
      "name": "DL_Python_3",
      "provenance": [],
      "collapsed_sections": []
    },
    "kernelspec": {
      "name": "python3",
      "display_name": "Python 3"
    }
  },
  "cells": [
    {
      "cell_type": "code",
      "metadata": {
        "id": "-ylpUicHex14"
      },
      "source": [
        "# Регрессия (На основе предсказания цены дома)"
      ],
      "execution_count": 1,
      "outputs": []
    },
    {
      "cell_type": "code",
      "metadata": {
        "id": "FrDPL5oBe6vY"
      },
      "source": [
        "import numpy as np\n",
        "import matplotlib.pyplot as plt\n",
        "\n",
        "from keras.datasets import boston_housing\n",
        "from keras import models, layers, losses, metrics, optimizers"
      ],
      "execution_count": 2,
      "outputs": []
    },
    {
      "cell_type": "code",
      "metadata": {
        "colab": {
          "base_uri": "https://localhost:8080/"
        },
        "id": "8sRarYW-fKsP",
        "outputId": "26e3d434-7e9f-421c-ecaf-55fcdebe09ca"
      },
      "source": [
        "(train_data, train_targets), (test_data, test_targets) = boston_housing.load_data()"
      ],
      "execution_count": 3,
      "outputs": [
        {
          "output_type": "stream",
          "text": [
            "Downloading data from https://storage.googleapis.com/tensorflow/tf-keras-datasets/boston_housing.npz\n",
            "57344/57026 [==============================] - 0s 0us/step\n"
          ],
          "name": "stdout"
        }
      ]
    },
    {
      "cell_type": "code",
      "metadata": {
        "colab": {
          "base_uri": "https://localhost:8080/"
        },
        "id": "wdzuKbkbfUwG",
        "outputId": "55e344eb-2523-4571-bbc7-33913aa2c747"
      },
      "source": [
        "train_data.shape, test_data.shape"
      ],
      "execution_count": 4,
      "outputs": [
        {
          "output_type": "execute_result",
          "data": {
            "text/plain": [
              "((404, 13), (102, 13))"
            ]
          },
          "metadata": {
            "tags": []
          },
          "execution_count": 4
        }
      ]
    },
    {
      "cell_type": "code",
      "metadata": {
        "id": "SB4LOPzDfiJ2"
      },
      "source": [
        "# Нормализация (центрирование со стандартным отклонением 1)\n",
        "mean = train_data.mean(axis=0)\n",
        "train_data = train_data - mean\n",
        "std = train_data.std(axis=0)\n",
        "train_data = train_data / std\n",
        "\n",
        "test_data -= mean\n",
        "test_data /= std"
      ],
      "execution_count": 6,
      "outputs": []
    },
    {
      "cell_type": "code",
      "metadata": {
        "id": "4_Ze7BG2gUAC"
      },
      "source": [
        "# Функция создания модели\n",
        "def build_model():\n",
        "  model = models.Sequential()\n",
        "  model.add(layers.Dense(64, activation='relu', input_shape=(train_data.shape[1],)))\n",
        "  model.add(layers.Dense(64, activation='relu'))\n",
        "  model.add(layers.Dense(1))\n",
        "  model.compile(optimizer=optimizers.RMSprop(), loss=losses.mse, metrics=[metrics.mae])\n",
        "  return model"
      ],
      "execution_count": 7,
      "outputs": []
    },
    {
      "cell_type": "code",
      "metadata": {
        "colab": {
          "base_uri": "https://localhost:8080/"
        },
        "id": "-tfX8zr6hh-n",
        "outputId": "1c52079c-240b-4d2a-e70f-c8217e0ab7e2"
      },
      "source": [
        "# Перекресная проверка по K-блокам\n",
        "k = 4\n",
        "num_val_samples = len(train_data) // k\n",
        "num_epochs = 500\n",
        "all_mae_histories = []\n",
        "\n",
        "for i in range(k):\n",
        "  print('Processing fold #', i)\n",
        "  # для валидации\n",
        "  val_data = train_data[i*num_val_samples : (i+1)*num_val_samples]\n",
        "  val_targets = train_targets[i*num_val_samples : (i+1)*num_val_samples]\n",
        "  # для тренировки\n",
        "  partial_train_data = np.concatenate([train_data[ : (i)*num_val_samples],\n",
        "                                       train_data[(i+1)*num_val_samples : ]], axis=0)\n",
        "  partial_train_target = np.concatenate([train_targets[ : (i)*num_val_samples],\n",
        "                                       train_targets[(i+1)*num_val_samples : ]], axis=0)\n",
        "  # модель\n",
        "  model = build_model()\n",
        "  history = model.fit(partial_train_data, partial_train_target,\n",
        "            epochs=num_epochs, batch_size=1, verbose=0, validation_data=(val_data, val_targets))\n",
        "  mae_history = history.history['val_mean_absolute_error']\n",
        "  all_mae_histories.append(mae_history)"
      ],
      "execution_count": 16,
      "outputs": [
        {
          "output_type": "stream",
          "text": [
            "Processing fold # 0\n",
            "Processing fold # 1\n",
            "Processing fold # 2\n",
            "Processing fold # 3\n"
          ],
          "name": "stdout"
        }
      ]
    },
    {
      "cell_type": "code",
      "metadata": {
        "colab": {
          "base_uri": "https://localhost:8080/"
        },
        "id": "OPtj9r5_0G0b",
        "outputId": "bc0e6766-7734-49b7-d74d-171e79a53238"
      },
      "source": [
        "len(all_mae_histories), len(all_mae_histories[0])"
      ],
      "execution_count": 28,
      "outputs": [
        {
          "output_type": "execute_result",
          "data": {
            "text/plain": [
              "(4, 500)"
            ]
          },
          "metadata": {
            "tags": []
          },
          "execution_count": 28
        }
      ]
    },
    {
      "cell_type": "code",
      "metadata": {
        "id": "nSNih91FtGWg"
      },
      "source": [
        "# История средних оценок проверки по K блокам\n",
        "average_mae_history = [\n",
        "    np.mean([x[i] for x in all_mae_histories]) for i in range(num_epochs)\n",
        "]"
      ],
      "execution_count": 17,
      "outputs": []
    },
    {
      "cell_type": "code",
      "metadata": {
        "colab": {
          "base_uri": "https://localhost:8080/",
          "height": 279
        },
        "id": "a3g4wzZ_vJhP",
        "outputId": "bde2b5cc-4e32-48dc-e9c0-4dd171fa5104"
      },
      "source": [
        "# Оценка MAE по эпохам\n",
        "plt.plot(range(1, len(average_mae_history) + 1), average_mae_history)\n",
        "plt.xlabel('Epochs')\n",
        "plt.ylabel('Validation MAE')\n",
        "plt.show()\n",
        "# Тут большие значение на первых эпохах -> Попробуем посмотреть график без них\n",
        "# + сгладим експоненциальным скользящим средним"
      ],
      "execution_count": 19,
      "outputs": [
        {
          "output_type": "display_data",
          "data": {
            "image/png": "[encoded data removed]",
            "text/plain": [
              "<Figure size 432x288 with 1 Axes>"
            ]
          },
          "metadata": {
            "tags": [],
            "needs_background": "light"
          }
        }
      ]
    },
    {
      "cell_type": "code",
      "metadata": {
        "id": "xgOUwxOlvkHn"
      },
      "source": [
        "# функция для сглаживания экспонц. средним значенй\n",
        "def good_line(points, factor=0.9):\n",
        "  good_points = []\n",
        "  for point in points:\n",
        "    if good_points:\n",
        "      previous = good_points[-1]\n",
        "      good_points.append(previous*factor + point*(1-factor))\n",
        "    else:\n",
        "      good_points.append(point)  \n",
        "  return good_points    "
      ],
      "execution_count": 21,
      "outputs": []
    },
    {
      "cell_type": "code",
      "metadata": {
        "colab": {
          "base_uri": "https://localhost:8080/",
          "height": 279
        },
        "id": "VxYfO_KTxeCA",
        "outputId": "9fa60e65-3b36-48ab-f124-4cb55c63252b"
      },
      "source": [
        "good_mae_history = good_line(average_mae_history[10:])\n",
        "plt.plot(range(1, len(good_mae_history) + 1), good_mae_history)\n",
        "plt.xlabel('Epochs')\n",
        "plt.ylabel('Validation MAE')\n",
        "plt.show()"
      ],
      "execution_count": 22,
      "outputs": [
        {
          "output_type": "display_data",
          "data": {
            "image/png": "[encoded data removed]",
            "text/plain": [
              "<Figure size 432x288 with 1 Axes>"
            ]
          },
          "metadata": {
            "tags": [],
            "needs_background": "light"
          }
        }
      ]
    },
    {
      "cell_type": "code",
      "metadata": {
        "colab": {
          "base_uri": "https://localhost:8080/"
        },
        "id": "E3PkbDn7xqoI",
        "outputId": "416bb239-d79c-4d6a-8b50-74b963b6a39d"
      },
      "source": [
        "# В цикле по k каждый раз получали новую модель и потом все значения между\n",
        "# показаниями моделей усредняли. Поэтому  поняли что после 80 эпох можно заканчивать\n",
        "\n",
        "# Обучение окончательной модели\n",
        "model = build_model()\n",
        "model.fit(train_data, train_targets,\n",
        "          epochs=80, batch_size=16, verbose=0)\n",
        "test_mse_score, test_mae_score = model.evaluate(test_data, test_targets)\n",
        "test_mse_score, test_mae_score"
      ],
      "execution_count": 30,
      "outputs": [
        {
          "output_type": "stream",
          "text": [
            "4/4 [==============================] - 0s 1ms/step - loss: 17.4390 - mean_absolute_error: 2.6669\n"
          ],
          "name": "stdout"
        },
        {
          "output_type": "execute_result",
          "data": {
            "text/plain": [
              "(17.43903923034668, 2.6669108867645264)"
            ]
          },
          "metadata": {
            "tags": []
          },
          "execution_count": 30
        }
      ]
    },
    {
      "cell_type": "code",
      "metadata": {
        "colab": {
          "base_uri": "https://localhost:8080/"
        },
        "id": "SRof3jAi1D4I",
        "outputId": "17a26df1-ecb8-4b28-c78e-23930ddfd833"
      },
      "source": [
        "t = model.predict(test_data)\n",
        "t[0]  # + нужно денормализовать"
      ],
      "execution_count": 33,
      "outputs": [
        {
          "output_type": "execute_result",
          "data": {
            "text/plain": [
              "array([8.447075], dtype=float32)"
            ]
          },
          "metadata": {
            "tags": []
          },
          "execution_count": 33
        }
      ]
    }
  ]
}