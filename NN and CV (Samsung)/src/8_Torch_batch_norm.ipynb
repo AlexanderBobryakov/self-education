{
  "nbformat": 4,
  "nbformat_minor": 0,
  "metadata": {
    "colab": {
      "name": "8_Torch_batch_norm",
      "provenance": []
    },
    "kernelspec": {
      "name": "python3",
      "display_name": "Python 3"
    }
  },
  "cells": [
    {
      "cell_type": "code",
      "metadata": {
        "id": "_hK3XGqWZKp-",
        "colab_type": "code",
        "colab": {
          "base_uri": "https://localhost:8080/",
          "height": 34
        },
        "outputId": "1670f6a2-629f-465c-f0ab-43f12d377dee"
      },
      "source": [
        "import numpy as np\n",
        "import torch\n",
        "import torch.nn as nn\n",
        "\n",
        "input_size = 7\n",
        "batch_size = 5\n",
        "input_tensor = torch.randn(batch_size, input_size, dtype=torch.float)\n",
        "\n",
        "eps = 1e-3\n",
        "batch_norm = nn.BatchNorm1d(input_size, eps=eps)\n",
        "batch_norm.bias.data = torch.randn(input_size, dtype=torch.float)\n",
        "batch_norm.weight.data = torch.randn(input_size, dtype=torch.float)\n",
        "\n",
        "# Функция для нормализации батча\n",
        "def custom_batch_norm1d(input_tensor, weight, bias, eps):\n",
        "    # среднее по стобцам (по одним эл-там всех векторов)\n",
        "    mean = torch.mean(input_tensor, 0, keepdim=True)\n",
        "    # отклонение(дисперсия) по стобцам (по одним эл-там всех векторов)\n",
        "    std = torch.std(input_tensor, 0, keepdim=True, unbiased=False)\n",
        "    # нормированные тензор\n",
        "    normed_tensor = ((input_tensor - mean)/torch.sqrt(std**2+eps)) * weight + bias\n",
        "    return normed_tensor\n",
        "\n",
        "# Проверка происходит автоматически вызовом следующего кода\n",
        "# (раскомментируйте для самостоятельной проверки,\n",
        "#  в коде для сдачи задания должно быть закомментировано):\n",
        "batch_norm_out = batch_norm(input_tensor)\n",
        "custom_batch_norm_out = custom_batch_norm1d(input_tensor, batch_norm.weight.data, batch_norm.bias.data, eps)\n",
        "\n",
        "print(torch.allclose(batch_norm_out, custom_batch_norm_out) \\\n",
        "      and batch_norm_out.shape == custom_batch_norm_out.shape)"
      ],
      "execution_count": 8,
      "outputs": [
        {
          "output_type": "stream",
          "text": [
            "True\n"
          ],
          "name": "stdout"
        }
      ]
    },
    {
      "cell_type": "code",
      "metadata": {
        "id": "j3I6w485xqqa",
        "colab_type": "code",
        "colab": {
          "base_uri": "https://localhost:8080/",
          "height": 51
        },
        "outputId": "1c9961f1-b219-41f0-ebc6-0252b7343b3f"
      },
      "source": [
        "# Класс для батч нормализации\n",
        "import torch\n",
        "import torch.nn as nn\n",
        "\n",
        "input_size = 3\n",
        "batch_size = 5\n",
        "eps = 1e-1\n",
        "\n",
        "class CustomBatchNorm1d:\n",
        "    # Реализуйте в этом месте конструктор.\n",
        "    def __init__(self, weight, bias, eps, momentum):\n",
        "        self.weight = weight\n",
        "        self.bias = bias\n",
        "        self.eps = eps\n",
        "        self.momentum = momentum\n",
        "        self.sigma = torch.ones(input_size)\n",
        "        self.mean = torch.zeros(input_size)\n",
        "        self.evaluation = False\n",
        "\n",
        "    # Напишите в этом месте нормирование входного тензора.\n",
        "    def __call__(self, input_tensor):\n",
        "        batch_size = input_tensor.shape[0]\n",
        "        if self.evaluation: \n",
        "            mean = self.mean\n",
        "            sigma = self.sigma\n",
        "        else:            \n",
        "            mean = input_tensor.mean(0)\n",
        "            sigma = input_tensor.var(0, unbiased=False)\n",
        "                        \n",
        "            self.mean = self.mean + (mean - self.mean) * self.momentum            \n",
        "            bessel_correction = batch_size / (batch_size - 1)\n",
        "            self.sigma = self.sigma + (sigma * bessel_correction - self.sigma) * self.momentum\n",
        "        # Напишите в этом месте нормирование входного тензора.\n",
        "        normed_tensor = torch.zeros(input_tensor.shape)\n",
        "        for n in range(batch_size):\n",
        "            z = (input_tensor[n] - mean) / (sigma + eps).sqrt()\n",
        "            normed_tensor[n] = z * self.weight + self.bias\n",
        "\n",
        "        return normed_tensor\n",
        "\n",
        "    def eval(self):\n",
        "        self.evaluation = True\n",
        "\n",
        "\n",
        "batch_norm = nn.BatchNorm1d(input_size, eps=eps)\n",
        "batch_norm.bias.data = torch.randn(input_size, dtype=torch.float)\n",
        "batch_norm.weight.data = torch.randn(input_size, dtype=torch.float)\n",
        "batch_norm.momentum = 0.5\n",
        "\n",
        "custom_batch_norm1d = CustomBatchNorm1d(batch_norm.weight.data,\n",
        "                                        batch_norm.bias.data, eps, batch_norm.momentum)\n",
        "\n",
        "# Проверка происходит автоматически вызовом следующего кода\n",
        "# (раскомментируйте для самостоятельной проверки,\n",
        "#  в коде для сдачи задания должно быть закомментировано):\n",
        "all_correct = True\n",
        "\n",
        "for i in range(8):\n",
        "    torch_input = torch.randn(batch_size, input_size, dtype=torch.float)\n",
        "    norm_output = batch_norm(torch_input)\n",
        "    custom_output = custom_batch_norm1d(torch_input)\n",
        "    all_correct &= torch.allclose(norm_output, custom_output) \\\n",
        "        and norm_output.shape == custom_output.shape\n",
        "print(all_correct)\n",
        "\n",
        "batch_norm.eval()\n",
        "custom_batch_norm1d.eval()\n",
        "\n",
        "for i in range(8):\n",
        "    torch_input = torch.randn(batch_size, input_size, dtype=torch.float)\n",
        "    norm_output = batch_norm(torch_input)\n",
        "    custom_output = custom_batch_norm1d(torch_input)\n",
        "    all_correct &= torch.allclose(norm_output, custom_output) \\\n",
        "        and norm_output.shape == custom_output.shape\n",
        "print(all_correct)"
      ],
      "execution_count": 13,
      "outputs": [
        {
          "output_type": "stream",
          "text": [
            "True\n",
            "True\n"
          ],
          "name": "stdout"
        }
      ]
    },
    {
      "cell_type": "code",
      "metadata": {
        "id": "Yo-okcuVxrlH",
        "colab_type": "code",
        "colab": {
          "base_uri": "https://localhost:8080/",
          "height": 34
        },
        "outputId": "cf53d2ad-954d-42a0-afee-c8b0b3493086"
      },
      "source": [
        "# Случай многоканального тензора\n",
        "import torch\n",
        "import torch.nn as nn\n",
        "\n",
        "eps = 1e-3\n",
        "\n",
        "input_channels = 3\n",
        "batch_size = 3\n",
        "height = 10\n",
        "width = 10\n",
        "\n",
        "batch_norm_2d = nn.BatchNorm2d(input_channels, affine=False, eps=eps)\n",
        "\n",
        "input_tensor = torch.randn(batch_size, input_channels, height, width, dtype=torch.float)\n",
        "\n",
        "\n",
        "def custom_batch_norm2d(input_tensor, eps):\n",
        "    mean, var = torch.tensor(input_tensor.numpy().mean(axis=(0,2,3)).reshape(1, input_tensor.shape[1], 1, 1)) \\\n",
        "              , torch.tensor(input_tensor.numpy().var( axis=(0,2,3) ).reshape(1, input_tensor.shape[1], 1, 1))\n",
        "\n",
        "    return (input_tensor - mean) / torch.sqrt(var + eps)\n",
        "\n",
        "\n",
        "# Проверка происходит автоматически вызовом следующего кода\n",
        "# (раскомментируйте для самостоятельной проверки,\n",
        "#  в коде для сдачи задания должно быть закомментировано):\n",
        "norm_output = batch_norm_2d(input_tensor)\n",
        "custom_output = custom_batch_norm2d(input_tensor, eps)\n",
        "print(torch.allclose(norm_output, custom_output) and norm_output.shape == custom_output.shape)"
      ],
      "execution_count": 16,
      "outputs": [
        {
          "output_type": "stream",
          "text": [
            "True\n"
          ],
          "name": "stdout"
        }
      ]
    },
    {
      "cell_type": "code",
      "metadata": {
        "id": "ywTbLtlhE9hR",
        "colab_type": "code",
        "colab": {
          "base_uri": "https://localhost:8080/",
          "height": 34
        },
        "outputId": "1061b6f9-0c39-44b7-88c6-380b8bb22f3e"
      },
      "source": [
        "# Нормализация по каналу\n",
        "# Идея, лежащая в основе слоя нормализации \"по каналу\", что сеть должна быть независимой от контраста исходного изображения.\n",
        "import torch\n",
        "import torch.nn as nn\n",
        "\n",
        "\n",
        "eps = 1e-10\n",
        "\n",
        "\n",
        "def custom_layer_norm(input_tensor, eps):\n",
        "    normed_tens = torch.zeros(input_tensor.shape)\n",
        "    for i in range (input_tensor.shape[0]):\n",
        "        mean = torch.tensor(input_tensor[i].numpy().mean())\n",
        "        var = torch.tensor(input_tensor[i].numpy().var())\n",
        "        normed_tens[i] += (input_tensor[i] - mean) / torch.sqrt(var + eps)\n",
        "    return normed_tens\n",
        "\n",
        "\n",
        "# Проверка происходит автоматически вызовом следующего кода\n",
        "# (раскомментируйте для самостоятельной проверки,\n",
        "#  в коде для сдачи задания должно быть закомментировано):\n",
        "all_correct = True\n",
        "for dim_count in range(3, 9):\n",
        "    input_tensor = torch.randn(*list(range(3, dim_count + 2)), dtype=torch.float)\n",
        "    layer_norm = nn.LayerNorm(input_tensor.size()[1:], elementwise_affine=False, eps=eps)\n",
        "\n",
        "    norm_output = layer_norm(input_tensor)\n",
        "    custom_output = custom_layer_norm(input_tensor, eps)\n",
        "\n",
        "    all_correct &= torch.allclose(norm_output, custom_output, 1e-2)\n",
        "    all_correct &= norm_output.shape == custom_output.shape\n",
        "print(input_tensor.shape)"
      ],
      "execution_count": 19,
      "outputs": [
        {
          "output_type": "stream",
          "text": [
            "torch.Size([3, 4, 5, 6, 7, 8, 9])\n"
          ],
          "name": "stdout"
        }
      ]
    },
    {
      "cell_type": "code",
      "metadata": {
        "id": "dgAxmotQJSna",
        "colab_type": "code",
        "colab": {
          "base_uri": "https://localhost:8080/",
          "height": 34
        },
        "outputId": "f8dd6080-5cf3-4def-8a8d-00b4e0a483da"
      },
      "source": [
        "# Нормализация \"по инстансу\" была изначально разработана для задачи style transfer.\n",
        "# Идея, лежащая в основе этого слоя, что сеть должна быть независимой от контраста отдельных каналов исходного изображения.\n",
        "import torch\n",
        "import torch.nn as nn\n",
        "\n",
        "eps = 1e-3\n",
        "\n",
        "batch_size = 5\n",
        "input_channels = 2\n",
        "input_length = 30\n",
        "\n",
        "instance_norm = nn.InstanceNorm1d(input_channels, affine=False, eps=eps)\n",
        "\n",
        "input_tensor = torch.randn(batch_size, input_channels, input_length, dtype=torch.float)\n",
        "\n",
        "\n",
        "def custom_instance_norm1d(input_tensor, eps):\n",
        "    mean = input_tensor.mean(dim=2, keepdim=True)\n",
        "    var = input_tensor.var(dim=2, unbiased=False, keepdim=True)\n",
        "    return (input_tensor - mean) / torch.sqrt(var + eps) * 1 + 0\n",
        "\n",
        "\n",
        "# Проверка происходит автоматически вызовом следующего кода\n",
        "# (раскомментируйте для самостоятельной проверки,\n",
        "#  в коде для сдачи задания должно быть закомментировано):\n",
        "norm_output = instance_norm(input_tensor)\n",
        "custom_output = custom_instance_norm1d(input_tensor, eps)\n",
        "print(torch.allclose(norm_output, custom_output) and norm_output.shape == custom_output.shape)"
      ],
      "execution_count": 21,
      "outputs": [
        {
          "output_type": "stream",
          "text": [
            "True\n"
          ],
          "name": "stdout"
        }
      ]
    },
    {
      "cell_type": "code",
      "metadata": {
        "id": "j92a0RbPKGf_",
        "colab_type": "code",
        "colab": {
          "base_uri": "https://localhost:8080/",
          "height": 34
        },
        "outputId": "4defec82-1109-460d-b6cf-d12ecd360142"
      },
      "source": [
        "# Нормализация \"по группе\" - это обобщение нормализации \"по каналу\" и \"по инстансу\".\n",
        "import torch\n",
        "import torch.nn as nn\n",
        "\n",
        "channel_count = 6\n",
        "eps = 1e-3\n",
        "batch_size = 20\n",
        "input_size = 2\n",
        "\n",
        "input_tensor = torch.randn(batch_size, channel_count, input_size)\n",
        "\n",
        "\n",
        "def custom_group_norm(input_tensor, groups, eps):\n",
        "    batch_size = input_tensor.shape[0]\n",
        "    input_tensor_shape = input_tensor.shape\n",
        "    input_tensor = input_tensor.reshape(batch_size, groups, -1)\n",
        "    mean = input_tensor.mean(dim=2, keepdim=True)\n",
        "    var = input_tensor.var(dim=2, unbiased=False, keepdim=True)\n",
        "    normed_tensor = (input_tensor - mean) / torch.sqrt(var + eps) * 1 + 0\n",
        "    return normed_tensor.reshape(*input_tensor_shape)\n",
        "\n",
        "\n",
        "# Проверка происходит автоматически вызовом следующего кода\n",
        "# (раскомментируйте для самостоятельной проверки,\n",
        "#  в коде для сдачи задания должно быть закомментировано):\n",
        "all_correct = True\n",
        "for groups in [1, 2, 3, 6]:\n",
        "    group_norm = nn.GroupNorm(groups, channel_count, eps=eps, affine=False)\n",
        "    norm_output = group_norm(input_tensor)\n",
        "    custom_output = custom_group_norm(input_tensor, groups, eps)\n",
        "    all_correct &= torch.allclose(norm_output, custom_output, 1e-3)\n",
        "    all_correct &= norm_output.shape == custom_output.shape\n",
        "print(all_correct)"
      ],
      "execution_count": 23,
      "outputs": [
        {
          "output_type": "stream",
          "text": [
            "True\n"
          ],
          "name": "stdout"
        }
      ]
    }
  ]
}