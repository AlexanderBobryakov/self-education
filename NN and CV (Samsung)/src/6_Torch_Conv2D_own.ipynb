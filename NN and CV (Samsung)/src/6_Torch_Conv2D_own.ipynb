{
  "nbformat": 4,
  "nbformat_minor": 0,
  "metadata": {
    "colab": {
      "name": "6_Torch_Conv2D_own",
      "provenance": []
    },
    "kernelspec": {
      "name": "python3",
      "display_name": "Python 3"
    }
  },
  "cells": [
    {
      "cell_type": "code",
      "metadata": {
        "id": "wNi48RjgtlvC",
        "colab_type": "code",
        "colab": {}
      },
      "source": [
        "import torch\n",
        "# Сверточный слой своими руками"
      ],
      "execution_count": 0,
      "outputs": []
    },
    {
      "cell_type": "code",
      "metadata": {
        "id": "4YWlj7kbuVpt",
        "colab_type": "code",
        "outputId": "73dc672e-31f8-4c6c-9509-99d5fbf336d8",
        "colab": {
          "base_uri": "https://localhost:8080/",
          "height": 629
        }
      },
      "source": [
        "# Создаем входной массив из двух изображений RGB 3*3\n",
        "input_images = torch.tensor(\n",
        "      [[[[0,  1,  2],\n",
        "         [3,  4,  5],\n",
        "         [6,  7,  8]],\n",
        "\n",
        "        [[9, 10, 11],\n",
        "         [12, 13, 14],\n",
        "         [15, 16, 17]],\n",
        "\n",
        "        [[18, 19, 20],\n",
        "         [21, 22, 23],\n",
        "         [24, 25, 26]]],\n",
        "\n",
        "\n",
        "       [[[27, 28, 29],\n",
        "         [30, 31, 32],\n",
        "         [33, 34, 35]],\n",
        "\n",
        "        [[36, 37, 38],\n",
        "         [39, 40, 41],\n",
        "         [42, 43, 44]],\n",
        "\n",
        "        [[45, 46, 47],\n",
        "         [48, 49, 50],\n",
        "         [51, 52, 53]]]])\n",
        "\n",
        "\n",
        "# Функция добавления нулей с четырех сторон каждого изображения\n",
        "def get_padding2d(input_images):\n",
        "    padded_images = torch.nn.functional.pad(input_images, (1,1, 1, 1), 'constant', 0).float();\n",
        "    return padded_images\n",
        "\n",
        "print(get_padding2d(input_images))\n"
      ],
      "execution_count": 0,
      "outputs": [
        {
          "output_type": "stream",
          "text": [
            "tensor([[[[ 0.,  0.,  0.,  0.,  0.],\n",
            "          [ 0.,  0.,  1.,  2.,  0.],\n",
            "          [ 0.,  3.,  4.,  5.,  0.],\n",
            "          [ 0.,  6.,  7.,  8.,  0.],\n",
            "          [ 0.,  0.,  0.,  0.,  0.]],\n",
            "\n",
            "         [[ 0.,  0.,  0.,  0.,  0.],\n",
            "          [ 0.,  9., 10., 11.,  0.],\n",
            "          [ 0., 12., 13., 14.,  0.],\n",
            "          [ 0., 15., 16., 17.,  0.],\n",
            "          [ 0.,  0.,  0.,  0.,  0.]],\n",
            "\n",
            "         [[ 0.,  0.,  0.,  0.,  0.],\n",
            "          [ 0., 18., 19., 20.,  0.],\n",
            "          [ 0., 21., 22., 23.,  0.],\n",
            "          [ 0., 24., 25., 26.,  0.],\n",
            "          [ 0.,  0.,  0.,  0.,  0.]]],\n",
            "\n",
            "\n",
            "        [[[ 0.,  0.,  0.,  0.,  0.],\n",
            "          [ 0., 27., 28., 29.,  0.],\n",
            "          [ 0., 30., 31., 32.,  0.],\n",
            "          [ 0., 33., 34., 35.,  0.],\n",
            "          [ 0.,  0.,  0.,  0.,  0.]],\n",
            "\n",
            "         [[ 0.,  0.,  0.,  0.,  0.],\n",
            "          [ 0., 36., 37., 38.,  0.],\n",
            "          [ 0., 39., 40., 41.,  0.],\n",
            "          [ 0., 42., 43., 44.,  0.],\n",
            "          [ 0.,  0.,  0.,  0.,  0.]],\n",
            "\n",
            "         [[ 0.,  0.,  0.,  0.,  0.],\n",
            "          [ 0., 45., 46., 47.,  0.],\n",
            "          [ 0., 48., 49., 50.,  0.],\n",
            "          [ 0., 51., 52., 53.,  0.],\n",
            "          [ 0.,  0.,  0.,  0.,  0.]]]])\n"
          ],
          "name": "stdout"
        }
      ]
    },
    {
      "cell_type": "code",
      "metadata": {
        "id": "3-m_MO7Wuieu",
        "colab_type": "code",
        "outputId": "d07474bc-b448-4b10-c2ae-1a7034cbe46e",
        "colab": {
          "base_uri": "https://localhost:8080/",
          "height": 34
        }
      },
      "source": [
        "import numpy as np\n",
        "\n",
        "# напишите тут код, вычисляющий выходную размерность слоя свертки\n",
        "def calc_out_shape(input_matrix_shape, out_channels, kernel_size, stride, padding):\n",
        "    # input_matrix_shape - входная размерность (число изображений в батче*число слоев в одном изображении*высота изображения*ширина изображения)\n",
        "    # out_channels - количество каналов фильтров\n",
        "    # kernel_size - размер фильтров\n",
        "    # stride \n",
        "    # padding\n",
        "    out_shape = np.array([]) \n",
        "    out_shape = np.append(out_shape, input_matrix_shape[0])\n",
        "    out_shape = np.append(out_shape, out_channels)\n",
        "    h = np.fix(((input_matrix_shape[2] + 2*padding - 1*(kernel_size - 1) - 1)/stride) + 1)\n",
        "    w = np.fix(((input_matrix_shape[3] + 2*padding - 1*(kernel_size - 1) - 1)/stride) + 1)\n",
        "    out_shape = np.append(out_shape, h)\n",
        "    out_shape = np.append(out_shape, w)\n",
        "    return out_shape\n",
        "\n",
        "print(np.array_equal(\n",
        "    calc_out_shape(input_matrix_shape=[2, 3, 10, 10],\n",
        "                   out_channels=10,\n",
        "                   kernel_size=3,\n",
        "                   stride=1,\n",
        "                   padding=0),\n",
        "    [2, 10, 8, 8]))\n"
      ],
      "execution_count": 0,
      "outputs": [
        {
          "output_type": "stream",
          "text": [
            "True\n"
          ],
          "name": "stdout"
        }
      ]
    },
    {
      "cell_type": "code",
      "metadata": {
        "id": "ZhQrU7Jj4tsa",
        "colab_type": "code",
        "colab": {}
      },
      "source": [
        "# реализуем сверточный слой различными способами.\n",
        "# Для удобства все наши реализации оформим в виде классов.\n",
        "# Интерфейс классов сделаем одинаковым и максимально похожим на интерфейс стандартной реализации\n",
        "\n",
        "# код для проверки:"
      ],
      "execution_count": 0,
      "outputs": []
    },
    {
      "cell_type": "code",
      "metadata": {
        "id": "DnpqHG_S1B_P",
        "colab_type": "code",
        "outputId": "32848ea6-4ed3-428d-f8dc-22dcba6f6ed0",
        "colab": {
          "base_uri": "https://localhost:8080/",
          "height": 34
        }
      },
      "source": [
        "import torch\n",
        "from abc import ABC, abstractmethod\n",
        "\n",
        "def calc_out_shape(input_matrix_shape, out_channels, kernel_size, stride, padding):\n",
        "    batch_size, channels_count, input_height, input_width = input_matrix_shape\n",
        "    output_height = (input_height + 2 * padding - (kernel_size - 1) - 1) // stride + 1\n",
        "    output_width = (input_width + 2 * padding - (kernel_size - 1) - 1) // stride + 1\n",
        "\n",
        "    return batch_size, out_channels, output_height, output_width\n",
        "\n",
        "# абстрактный класс для сверточного слоя\n",
        "class ABCConv2d(ABC):\n",
        "    def __init__(self, in_channels, out_channels, kernel_size, stride):\n",
        "        self.in_channels = in_channels\n",
        "        self.out_channels = out_channels\n",
        "        self.kernel_size = kernel_size\n",
        "        self.stride = stride\n",
        "\n",
        "    def set_kernel(self, kernel):\n",
        "        self.kernel = kernel\n",
        "\n",
        "    @abstractmethod\n",
        "    def __call__(self, input_tensor):\n",
        "        pass\n",
        "\n",
        "\n",
        "# класс-обертка над torch.nn.Conv2d для унификации интерфейса\n",
        "class Conv2d(ABCConv2d):\n",
        "    def __init__(self, in_channels, out_channels, kernel_size, stride):\n",
        "        self.conv2d = torch.nn.Conv2d(in_channels, out_channels, kernel_size,\n",
        "                                      stride, padding=0, bias=False)\n",
        "\n",
        "    def set_kernel(self, kernel):\n",
        "        self.conv2d.weight.data = kernel\n",
        "\n",
        "    def __call__(self, input_tensor):\n",
        "        return self.conv2d(input_tensor)\n",
        "\n",
        "\n",
        "# функция, создающая объект класса cls и возвращающая свертку от input_matrix\n",
        "def create_and_call_conv2d_layer(conv2d_layer_class, stride, kernel, input_matrix):\n",
        "    out_channels = kernel.shape[0]\n",
        "    in_channels = kernel.shape[1]\n",
        "    kernel_size = kernel.shape[2]\n",
        "\n",
        "    layer = conv2d_layer_class(in_channels, out_channels, kernel_size, stride)\n",
        "    layer.set_kernel(kernel)\n",
        "\n",
        "    return layer(input_matrix)\n",
        "\n",
        "\n",
        "# Функция, тестирующая класс conv2d_cls.\n",
        "# Возвращает True, если свертка совпадает со сверткой с помощью torch.nn.Conv2d.\n",
        "def test_conv2d_layer(conv2d_layer_class, batch_size=2,\n",
        "                      input_height=4, input_width=4, stride=2):\n",
        "    kernel = torch.tensor(\n",
        "                      [[[[0., 1, 0],\n",
        "                         [1,  2, 1],\n",
        "                         [0,  1, 0]],\n",
        "\n",
        "                        [[1, 2, 1],\n",
        "                         [0, 3, 3],\n",
        "                         [0, 1, 10]],\n",
        "\n",
        "                        [[10, 11, 12],\n",
        "                         [13, 14, 15],\n",
        "                         [16, 17, 18]]]])\n",
        "\n",
        "    in_channels = kernel.shape[1]\n",
        "\n",
        "    input_tensor = torch.arange(0, batch_size * in_channels *\n",
        "                                input_height * input_width,\n",
        "                                out=torch.FloatTensor()) \\\n",
        "        .reshape(batch_size, in_channels, input_height, input_width)\n",
        " \n",
        "    custom_conv2d_out = create_and_call_conv2d_layer(\n",
        "        conv2d_layer_class, stride, kernel, input_tensor)\n",
        "    conv2d_out = create_and_call_conv2d_layer(\n",
        "        Conv2d, stride, kernel, input_tensor)\n",
        "\n",
        "    return torch.allclose(custom_conv2d_out, conv2d_out) \\\n",
        "              and (custom_conv2d_out.shape == conv2d_out.shape)\n",
        "\n",
        "print(test_conv2d_layer(Conv2d))"
      ],
      "execution_count": 0,
      "outputs": [
        {
          "output_type": "stream",
          "text": [
            "True\n"
          ],
          "name": "stdout"
        }
      ]
    },
    {
      "cell_type": "code",
      "metadata": {
        "id": "XL8H6A6C6kTy",
        "colab_type": "code",
        "colab": {}
      },
      "source": [
        "# Если бы изображение было многослойным, например трехслойное - RGB, значит, \n",
        "# фильтры в ядре тоже должны быть трехслойные. \n",
        "# Каждый слой фильтра попиксельно умножается на соответствующий слой исходного изображения.\n",
        "# То есть в данном случае после умножения получилось бы 4*3 = 12 произведений, \n",
        "# результаты которых складываются, и получается значение выходного пикселя.\n",
        "\n",
        "# Если бы фильтров в ядре было больше одного, то добавился бы внешний цикл по фильтрам,\n",
        "# внутри которого мы считаем свертку для каждого фильтра.\n",
        "\n",
        "# Если бы во входном батче было более 1 изображения, то добавился бы еще один внешний \n",
        "# цикл по изображениям в батче."
      ],
      "execution_count": 0,
      "outputs": []
    },
    {
      "cell_type": "code",
      "metadata": {
        "id": "5RsTkBLj47ny",
        "colab_type": "code",
        "outputId": "b4dc4c6a-7798-485e-b8e5-e21f6b429ba2",
        "colab": {
          "base_uri": "https://localhost:8080/",
          "height": 34
        }
      },
      "source": [
        "# СВЕРТОЧНЫЙ СЛОЙ ЧЕРЕЗ ЦИКЛЫ.\n",
        "class Conv2dLoop(ABCConv2d):\n",
        "    def __call__(self, input_tensor):\n",
        "        # Так у conv2D из pytorch:\n",
        "        # conv2d = torch.nn.Conv2d(self.in_channels, self.out_channels, self.kernel_size,\n",
        "        #                               self.stride, padding=0, bias=False)\n",
        "        # conv2d.weight.data = self.kernel\n",
        "        # output_tensor = conv2d(input_tensor)\n",
        "\n",
        "        # Так руками через циклы:\n",
        "        # размеры выхода сверточного слоя\n",
        "        batch_size, out_channels, output_height, output_width = calc_out_shape(\n",
        "                                input_tensor.shape, \n",
        "                                self.out_channels,\n",
        "                                self.kernel_size,\n",
        "                                self.stride,\n",
        "                                padding=0)\n",
        "        # создадим выходной тензор, заполненный нулями         \n",
        "        output_tensor = torch.zeros(batch_size, out_channels, output_height, output_width)\n",
        "        # цикл по входным батчам(изображениям)\n",
        "        for num_batch, batch in enumerate(input_tensor):\n",
        "            # цикл по фильтрам (количество фильтров совпадает с количеством выходных каналов)  \n",
        "            for num_kernel, kernel in enumerate(self.kernel):\n",
        "               # цикл по размерам выходного изображения\n",
        "                for i in range(output_height):\n",
        "                    for j in range(output_width): \n",
        "                        # вырезаем кусочек из батча (сразу по всем входным каналам)\n",
        "                        current_row = self.stride*i\n",
        "                        current_column = self.stride*j\n",
        "                        current_slice = batch[:, current_row:current_row + self.kernel_size,\n",
        "                                              current_column:current_column + self.kernel_size]\n",
        "                        # умножаем кусочек на фильтр\n",
        "                        res = float((current_slice * kernel).sum())\n",
        "                        # заполняем ячейку в выходном тензоре\n",
        "                        output_tensor[num_batch,num_kernel,i,j] = res\n",
        "        return output_tensor\n",
        "\n",
        "# Корректность реализации определится в сравнии со стандартным слоем из pytorch.\n",
        "# Проверка происходит автоматически вызовом следующего кода\n",
        "# (раскомментируйте для самостоятельной проверки,\n",
        "#  в коде для сдачи задания должно быть закомментировано):\n",
        "print(test_conv2d_layer(Conv2dLoop))"
      ],
      "execution_count": 0,
      "outputs": [
        {
          "output_type": "stream",
          "text": [
            "True\n"
          ],
          "name": "stdout"
        }
      ]
    },
    {
      "cell_type": "code",
      "metadata": {
        "id": "yzy0msgh8bK_",
        "colab_type": "code",
        "outputId": "0f3077e9-3668-4008-f34e-2eac5f3a0d52",
        "colab": {
          "base_uri": "https://localhost:8080/",
          "height": 34
        }
      },
      "source": [
        "# СВЕРТОЧНЫЙ СЛОЙ ЧЕРЕЗ МАТРИЧНОЕ УМНОЖЕНИЕ.\n",
        "class Conv2dMatrix(ABCConv2d):\n",
        "    # Функция преобразование кернела в матрицу нужного вида.\n",
        "    def _unsqueeze_kernel(self, torch_input, output_height, output_width):\n",
        "        _, in_channels, in_height, in_width = torch_input.shape\n",
        "        ku_size = [self.out_channels, output_height, output_width, in_channels, in_height, in_width]\n",
        "        kernel_unsqueezed = torch.zeros(ku_size, dtype=torch.float32)\n",
        "        for i in range(output_height):\n",
        "            for j in range(output_width):\n",
        "                h_slice = slice(i*self.stride, i*self.stride+self.kernel_size)\n",
        "                w_slice = slice(j*self.stride, j*self.stride+self.kernel_size)\n",
        "                kernel_unsqueezed[:, i, j, :, h_slice, w_slice] = self.kernel.type(torch.float32)\n",
        "        return kernel_unsqueezed.view(-1, in_channels*in_height*in_width)\n",
        "\n",
        "    def __call__(self, torch_input):\n",
        "        batch_size, out_channels, output_height, output_width\\\n",
        "            = calc_out_shape(\n",
        "                input_matrix_shape=torch_input.shape,\n",
        "                out_channels=self.kernel.shape[0],\n",
        "                kernel_size=self.kernel.shape[2],\n",
        "                stride=self.stride,\n",
        "                padding=0)\n",
        "\n",
        "        kernel_unsqueezed = self._unsqueeze_kernel(torch_input, output_height, output_width)\n",
        "        result = kernel_unsqueezed @ torch_input.view((batch_size, -1)).permute(1, 0)\n",
        "        return result.permute(1, 0).view((batch_size, self.out_channels,\n",
        "                                          output_height, output_width))\n",
        "\n",
        "# Проверка происходит автоматически вызовом следующего кода\n",
        "# (раскомментируйте для самостоятельной проверки,\n",
        "#  в коде для сдачи задания должно быть закомментировано):\n",
        "print(test_conv2d_layer(Conv2dMatrix))"
      ],
      "execution_count": 0,
      "outputs": [
        {
          "output_type": "stream",
          "text": [
            "True\n"
          ],
          "name": "stdout"
        }
      ]
    },
    {
      "cell_type": "code",
      "metadata": {
        "id": "bLH-CUPiMpdY",
        "colab_type": "code",
        "colab": {}
      },
      "source": [
        "# СВЕРТОЧНЫЙ СЛОЙ ЧЕРЕЗ МАТРИЧНОЕ УМНОЖЕНИЕ. УЛУЧШЕННЫЙ\n",
        "class Conv2dMatrixV2(ABCConv2d):\n",
        "    # Функция преобразования кернела в нужный формат.\n",
        "    def _convert_kernel(self):\n",
        "        c_out, c_in, kernel_size, _ = self.kernel.shape\n",
        "        converted_kernel = self.kernel.view(c_out, -1)\n",
        "        return converted_kernel\n",
        "\n",
        "    # Функция преобразования входа в нужный формат.\n",
        "    def _convert_input(self, torch_input, output_height, output_width):\n",
        "        n, c_in, h_in, w_in = torch_input.shape\n",
        "        c_out, _, kernel_size, _ = self.kernel.shape\n",
        "        converted_input = torch.zeros(n, c_in * kernel_size * kernel_size, h_out * w_out)\n",
        "        for i in range(n):\n",
        "            current_image = torch_input[i]\n",
        "            for p in range(h_out):\n",
        "                for q in range(w_out):\n",
        "                    slice_ = current_image[:, \n",
        "                                           p*self.stride:p*self.stride+kernel_size, \n",
        "                                           q*self.stride:q*self.stride+kernel_size\n",
        "                    ]\n",
        "\n",
        "                    converted_input[i][:, p * h_out + q] = slice_.flatten()        \n",
        "        return converted_input\n",
        "\n",
        "    def __call__(self, torch_input):\n",
        "        batch_size, out_channels, output_height, output_width\\\n",
        "            = calc_out_shape(\n",
        "                input_matrix_shape=torch_input.shape,\n",
        "                out_channels=self.kernel.shape[0],\n",
        "                kernel_size=self.kernel.shape[2],\n",
        "                stride=self.stride,\n",
        "                padding=0)\n",
        "\n",
        "        converted_kernel = self._convert_kernel()\n",
        "        converted_input = self._convert_input(torch_input, output_height, output_width)\n",
        "\n",
        "        conv2d_out_alternative_matrix_v2 = converted_kernel @ converted_input\n",
        "        return conv2d_out_alternative_matrix_v2.transpose(0, 1).view(torch_input.shape[0],\n",
        "                                                     self.out_channels, output_height,\n",
        "                                                     output_width).transpose(1, 3).transpose(2, 3)"
      ],
      "execution_count": 0,
      "outputs": []
    }
  ]
}